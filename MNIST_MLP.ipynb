{
  "nbformat": 4,
  "nbformat_minor": 0,
  "metadata": {
    "colab": {
      "name": "MNIST_MLP.ipynb",
      "provenance": [],
      "authorship_tag": "ABX9TyP5+YWnzsKZ9+QkCoqqZYQe",
      "include_colab_link": true
    },
    "kernelspec": {
      "name": "python3",
      "display_name": "Python 3"
    }
  },
  "cells": [
    {
      "cell_type": "markdown",
      "metadata": {
        "id": "view-in-github",
        "colab_type": "text"
      },
      "source": [
        "<a href=\"https://colab.research.google.com/github/bassoline/DeepLearning/blob/main/MNIST_MLP.ipynb\" target=\"_parent\"><img src=\"https://colab.research.google.com/assets/colab-badge.svg\" alt=\"Open In Colab\"/></a>"
      ]
    },
    {
      "cell_type": "markdown",
      "metadata": {
        "id": "z4Lo56hk201b"
      },
      "source": [
        "* Note this is just for practice - normally CNN would be used to solve this problem "
      ]
    },
    {
      "cell_type": "code",
      "metadata": {
        "id": "LY7lxr_B2s2K"
      },
      "source": [
        "import torch.nn as nn \n",
        "import torch.optim as optim \n",
        "import torch \n",
        "\n",
        "from torchvision import datasets \n",
        "from torchvision import transforms \n",
        "from torch.utils.data import DataLoader"
      ],
      "execution_count": null,
      "outputs": []
    },
    {
      "cell_type": "code",
      "metadata": {
        "id": "lclx7dsnQHWM"
      },
      "source": [
        "# Define the NN Module \n",
        "\"\"\"\n",
        "For a classifier, the output layer should have softmax activation. \n",
        "However, we are using linear activation. \n",
        "This is because during training we will use nn.CrossEntropyLoss \n",
        "that combines nn.LogSoftMax (Log of SoftMax) \n",
        "and nn.NLLLoss (Negative Log Likelihood Loss). \n",
        "This also means that when we do inference, \n",
        "we have to use nn.functional.softmax on the raw \n",
        "output to convert it to probabilities.\n",
        "\"\"\"\n",
        "class MLP(torch.nn.Module): \n",
        "  def __init__(self): \n",
        "    # initalize super class \n",
        "    super().__init__()\n",
        "    # build model \n",
        "    self.model = nn.Sequential(\n",
        "        # add input layer 28*28 to match image dimensions\n",
        "        # 512 nodes in the layer\n",
        "        nn.Linear(28*28, 512),\n",
        "        # activation function for non-linearity\n",
        "        nn.ReLU(),\n",
        "        # second layer \n",
        "        nn.Linear(512, 512),\n",
        "        nn.ReLU(),\n",
        "        # output layer\n",
        "        nn.Linear(512, 10)\n",
        "    )\n",
        "\n",
        "  def forward(self, x):\n",
        "    # forward pass \n",
        "    return self.model(x)\n",
        "  "
      ],
      "execution_count": null,
      "outputs": []
    },
    {
      "cell_type": "code",
      "metadata": {
        "id": "Cb6hYrgYRPN8"
      },
      "source": [
        "def train(model, train_loader, loss_function):\n",
        "  model.train()\n",
        "  running_loss = 0\n",
        "  running_correct = 0\n",
        "\n",
        "  for (x_train, y_train) in train_loader:\n",
        "    #Forward pass \n",
        "    \n",
        "    # flatten image to 1-D \n",
        "    x_train = x_train.view(x_train.shape[0], -1)\n",
        "    \n",
        "    # compute predicted y \n",
        "    y = model(x_train)\n",
        "\n",
        "    # compute and print loss \n",
        "    loss = loss_function(y, y_train)\n",
        "    running_loss += loss.item()\n",
        "\n",
        "    # compute accuracy \n",
        "    y_pred = y.argmax(dim=1)\n",
        "    correct = torch.sum(y_pred==y_train)\n",
        "    running_correct += correct \n",
        "\n",
        "    # zero gradients for back prop \n",
        "    optimizer.zero_grad()\n",
        "    # calculate backprop \n",
        "    loss.backward()\n",
        "    # update model weights \n",
        "    optimizer.step()\n",
        "  \n",
        "  return running_loss/len(train_loader), running_correct.item() / len(train_loader.dataset)\n"
      ],
      "execution_count": null,
      "outputs": []
    },
    {
      "cell_type": "code",
      "metadata": {
        "id": "Xd9Ijx4GTcEn"
      },
      "source": [
        "def val(model, validation_loader, loss_function):\n",
        "  model.eval()\n",
        "  running_loss = 0 \n",
        "  running_correct = 0 \n",
        "\n",
        "  # since we're only doing forward pass we don't need the overhead of gradients \n",
        "  with torch.no_grad():\n",
        "    for (x_val, y_val) in validation_loader: \n",
        "      #Forward pass \n",
        "    \n",
        "      # flatten image to 1-D \n",
        "      x_val = x_val.view(x_val.shape[0], -1)\n",
        "      \n",
        "      # compute predicted y \n",
        "      y = model(x_val)\n",
        "\n",
        "      # change score to probablity using softmax \n",
        "      prob = nn.functional.softmax(y, dim=1)\n",
        "\n",
        "      # compute and print loss \n",
        "      loss = loss_function(y, y_val)\n",
        "      running_loss += loss.item()\n",
        "\n",
        "      # compute accuracy \n",
        "      y_pred = prob.argmax(dim=1)\n",
        "      correct = torch.sum(y_pred==y_val)\n",
        "      running_correct += correct \n",
        "\n",
        "      return running_loss/len(validation_loader), running_correct.item()/len(validation_loader.dataset)"
      ],
      "execution_count": null,
      "outputs": []
    },
    {
      "cell_type": "code",
      "metadata": {
        "id": "qL0jlgSZYaHn"
      },
      "source": [
        "# for reproducibility \n",
        "torch.manual_seed(0)\n",
        "\n",
        "# batch size should be less than or equal to 32 \n",
        "# see here https://twitter.com/ylecun/status/989610208497360896?lang=en\n",
        "batch_size = 32 \n",
        "\n",
        "# torch datasets can be found here \n",
        "# https://pytorch.org/docs/stable/torchvision/datasets.html\n",
        "train_dataset = datasets.MNIST('./data', \n",
        "                               train=True,\n",
        "                               download=True,\n",
        "                               transform=transforms.ToTensor())\n",
        "validation_dataset = datasets.MNIST('./data',\n",
        "                                    train=False,\n",
        "                                    transform=transforms.ToTensor())\n",
        "\n",
        "\n",
        "# FYI for Dataloader\n",
        "# it shuffles data and loads data in mini-batches \n",
        "train_loader = DataLoader(dataset = train_dataset, \n",
        "                          batch_size = batch_size,\n",
        "                          shuffle=True)\n",
        "validation_loader = DataLoader(dataset = validation_dataset, \n",
        "                          batch_size = batch_size,\n",
        "                          shuffle=False)\n"
      ],
      "execution_count": null,
      "outputs": []
    },
    {
      "cell_type": "code",
      "metadata": {
        "colab": {
          "base_uri": "https://localhost:8080/"
        },
        "id": "etGMABTMV87S",
        "outputId": "4c3e47fd-82d1-401e-ad7a-20244db4a776"
      },
      "source": [
        "# configure training parameters and initalize model \n",
        "num_epochs = 20 \n",
        "model = MLP()\n",
        "loss_function = nn.CrossEntropyLoss() \n",
        "optimizer = optim.SGD(model.parameters(), lr=1e-2)\n",
        "\n",
        "# initialize training history \n",
        "train_loss_history = [] \n",
        "val_loss_history = []\n",
        "train_acc_history = [] \n",
        "val_acc_history = [] \n",
        "\n",
        "# train \n",
        "print('Start training')\n",
        "for epoch in range(num_epochs): \n",
        "  train_loss, train_acc = train(model, train_loader, loss_function) \n",
        "  val_loss, val_acc = val(model, validation_loader, loss_function) \n",
        "  print(\"Epoch: {}, Train Loss = {:.3f}, Train Acc = {:.3f} , Val Loss = {:.3f}, Val Acc = {:.3f}\".\n",
        "          format(epoch, train_loss, train_acc, val_loss, val_acc))\n",
        "  train_loss_history.append(train_loss)\n",
        "  val_loss_history.append(val_loss)\n",
        "  train_acc_history.append(train_acc)\n",
        "  val_acc_history.append(val_acc)"
      ],
      "execution_count": null,
      "outputs": [
        {
          "output_type": "stream",
          "text": [
            "Start training\n",
            "Epoch: 0, Train Loss = 1.042, Train Acc = 0.753 , Val Loss = 0.001, Val Acc = 0.003\n",
            "Epoch: 1, Train Loss = 0.358, Train Acc = 0.899 , Val Loss = 0.001, Val Acc = 0.003\n",
            "Epoch: 2, Train Loss = 0.293, Train Acc = 0.915 , Val Loss = 0.001, Val Acc = 0.003\n",
            "Epoch: 3, Train Loss = 0.253, Train Acc = 0.928 , Val Loss = 0.001, Val Acc = 0.003\n",
            "Epoch: 4, Train Loss = 0.220, Train Acc = 0.937 , Val Loss = 0.001, Val Acc = 0.003\n",
            "Epoch: 5, Train Loss = 0.194, Train Acc = 0.945 , Val Loss = 0.001, Val Acc = 0.003\n",
            "Epoch: 6, Train Loss = 0.173, Train Acc = 0.951 , Val Loss = 0.001, Val Acc = 0.003\n",
            "Epoch: 7, Train Loss = 0.155, Train Acc = 0.956 , Val Loss = 0.001, Val Acc = 0.003\n",
            "Epoch: 8, Train Loss = 0.140, Train Acc = 0.960 , Val Loss = 0.001, Val Acc = 0.003\n",
            "Epoch: 9, Train Loss = 0.128, Train Acc = 0.963 , Val Loss = 0.000, Val Acc = 0.003\n",
            "Epoch: 10, Train Loss = 0.117, Train Acc = 0.967 , Val Loss = 0.000, Val Acc = 0.003\n",
            "Epoch: 11, Train Loss = 0.107, Train Acc = 0.970 , Val Loss = 0.000, Val Acc = 0.003\n",
            "Epoch: 12, Train Loss = 0.099, Train Acc = 0.972 , Val Loss = 0.000, Val Acc = 0.003\n",
            "Epoch: 13, Train Loss = 0.092, Train Acc = 0.974 , Val Loss = 0.000, Val Acc = 0.003\n",
            "Epoch: 14, Train Loss = 0.085, Train Acc = 0.976 , Val Loss = 0.000, Val Acc = 0.003\n",
            "Epoch: 15, Train Loss = 0.079, Train Acc = 0.978 , Val Loss = 0.000, Val Acc = 0.003\n",
            "Epoch: 16, Train Loss = 0.073, Train Acc = 0.980 , Val Loss = 0.000, Val Acc = 0.003\n",
            "Epoch: 17, Train Loss = 0.069, Train Acc = 0.981 , Val Loss = 0.000, Val Acc = 0.003\n",
            "Epoch: 18, Train Loss = 0.065, Train Acc = 0.982 , Val Loss = 0.000, Val Acc = 0.003\n",
            "Epoch: 19, Train Loss = 0.060, Train Acc = 0.983 , Val Loss = 0.000, Val Acc = 0.003\n"
          ],
          "name": "stdout"
        }
      ]
    },
    {
      "cell_type": "code",
      "metadata": {
        "colab": {
          "base_uri": "https://localhost:8080/",
          "height": 531
        },
        "id": "as9bp02TY_3P",
        "outputId": "11d6456c-5621-4a27-f0bd-dc7d91cda3ac"
      },
      "source": [
        "# plot the results \n",
        "import matplotlib.pyplot as plt \n",
        "%matplotlib inline \n",
        "plt.figure(figsize=[20,8])\n",
        "plt.subplot(121)\n",
        "plt.plot(train_loss_history,'r')\n",
        "plt.plot(val_loss_history,'b')\n",
        "plt.title(\"Loss Curve\")\n",
        "\n",
        "plt.subplot(122)\n",
        "plt.plot(train_acc_history,'r')\n",
        "plt.plot(val_acc_history,'b')\n",
        "plt.title(\"Accuracy Curve\")\n"
      ],
      "execution_count": null,
      "outputs": [
        {
          "output_type": "execute_result",
          "data": {
            "text/plain": [
              "Text(0.5, 1.0, 'Accuracy Curve')"
            ]
          },
          "metadata": {
            "tags": []
          },
          "execution_count": 14
        },
        {
          "output_type": "display_data",
          "data": {
            "image/png": "[encoded data removed]",
            "text/plain": [
              "<Figure size 1440x576 with 2 Axes>"
            ]
          },
          "metadata": {
            "tags": [],
            "needs_background": "light"
          }
        }
      ]
    },
    {
      "cell_type": "code",
      "metadata": {
        "colab": {
          "base_uri": "https://localhost:8080/",
          "height": 303
        },
        "id": "-Ew1O9F0ZsRX",
        "outputId": "bee6e142-453e-4c5c-9086-959dd720cfcb"
      },
      "source": [
        "# perform Inference\n",
        "images, labels = next(iter(validation_loader))\n",
        "plt.imshow(images[0][0], 'gray')\n",
        "# resize image to 1-D\n",
        "images.resize_(images.shape[0], 1, 784)\n",
        "# forward pass \n",
        "score = model(images[0,:])\n",
        "# softmax for classification\n",
        "prob = nn.functional.softmax(score[0], dim=0)\n",
        "# get prediction \n",
        "y_pred =  prob.argmax()\n",
        "print(\"Predicted class {} with probability {}\".format(y_pred, prob[y_pred]))"
      ],
      "execution_count": null,
      "outputs": [
        {
          "output_type": "stream",
          "text": [
            "Predicted class 7 with probability 0.9978142976760864\n"
          ],
          "name": "stdout"
        },
        {
          "output_type": "display_data",
          "data": {
            "image/png": "[encoded data removed]",
            "text/plain": [
              "<Figure size 432x288 with 1 Axes>"
            ]
          },
          "metadata": {
            "tags": [],
            "needs_background": "light"
          }
        }
      ]
    },
    {
      "cell_type": "code",
      "metadata": {
        "id": "KjIVHvPqbENz"
      },
      "source": [
        ""
      ],
      "execution_count": null,
      "outputs": []
    }
  ]
}