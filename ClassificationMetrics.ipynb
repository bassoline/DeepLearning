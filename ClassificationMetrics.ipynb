{
  "nbformat": 4,
  "nbformat_minor": 0,
  "metadata": {
    "colab": {
      "name": "ClassificationMetrics.ipynb",
      "provenance": [],
      "authorship_tag": "ABX9TyM8zRONs5Y1d5dAbjpsBCIM",
      "include_colab_link": true
    },
    "kernelspec": {
      "name": "python3",
      "display_name": "Python 3"
    }
  },
  "cells": [
    {
      "cell_type": "markdown",
      "metadata": {
        "id": "view-in-github",
        "colab_type": "text"
      },
      "source": [
        "<a href=\"https://colab.research.google.com/github/bassoline/DeepLearning/blob/main/ClassificationMetrics.ipynb\" target=\"_parent\"><img src=\"https://colab.research.google.com/assets/colab-badge.svg\" alt=\"Open In Colab\"/></a>"
      ]
    },
    {
      "cell_type": "code",
      "metadata": {
        "id": "9hZiV369AiRj"
      },
      "source": [
        "%matplotlib inline \n",
        "import numpy as np \n",
        "import torch\n",
        "import torch.nn as nn \n",
        "import matplotlib.pyplot as plt \n",
        "plt.style.use('ggplot')\n",
        "\n",
        "from sklearn.datasets import make_classification\n",
        "from sklearn.model_selection import train_test_split \n",
        "import warnings \n",
        "warnings.filterwarnings('ignore')\n",
        "\n",
        "plt.rcParams['figure.figsize'] = (8,8)"
      ],
      "execution_count": 2,
      "outputs": []
    },
    {
      "cell_type": "code",
      "metadata": {
        "colab": {
          "base_uri": "https://localhost:8080/",
          "height": 515
        },
        "id": "V4CyVwU1GQ8d",
        "outputId": "e7dfb736-d6ec-4f51-bb1d-5290a9cfe69f"
      },
      "source": [
        "# generate dataset \n",
        "seed = 42 \n",
        "randomGenerator = np.random.RandomState(seed)\n",
        "torch.manual_seed(seed)\n",
        "\n",
        "# generate two class classification data \n",
        "X, Y = make_classification(\n",
        "    n_features = 2, \n",
        "    n_redundant = 0, \n",
        "    n_informative = 2, \n",
        "    random_state = seed, \n",
        "    n_clusters_per_class = 1\n",
        ")\n",
        "\n",
        "# add some noise \n",
        "X += 4 * randomGenerator.uniform(size = X.shape)\n",
        "\n",
        "print('Input (X) shape: {}'.format(X.shape))\n",
        "print('Labels (Y) shape: {}'.format(Y.shape))\n",
        "\n",
        "plt.scatter(X[:, 0], X[:, 1], c=Y, edgecolors='k')\n",
        "\n",
        "# divide data into test and training data \n",
        "x_train, x_test, y_train, y_test = train_test_split(X, Y, test_size = 0.25, random_state = seed)\n",
        "# convert from numpy to torch \n",
        "x_train, y_train = torch.from_numpy(x_train).float(), torch.from_numpy(y_train).float().reshape(-1,1)\n",
        "x_test, y_test = torch.from_numpy(x_test).float(), torch.from_numpy(y_test).float().reshape(-1,1)"
      ],
      "execution_count": 25,
      "outputs": [
        {
          "output_type": "stream",
          "text": [
            "Input (X) shape: (100, 2)\n",
            "Labels (Y) shape: (100,)\n"
          ],
          "name": "stdout"
        },
        {
          "output_type": "display_data",
          "data": {
            "image/png": "[encoded data removed]",
            "text/plain": [
              "<Figure size 576x576 with 1 Axes>"
            ]
          },
          "metadata": {
            "tags": []
          }
        }
      ]
    },
    {
      "cell_type": "code",
      "metadata": {
        "id": "M2w3-6FsHfPe"
      },
      "source": [
        "class LogisticRegression(nn.Module): \n",
        "  def __init__(self, n_features):\n",
        "    super().__init__()\n",
        "    # linear layer (WX+B)\n",
        "    self.linear = nn.Linear(n_features, 1, bias=True)\n",
        "  \n",
        "  def forward(self, x): \n",
        "    # calculate WX + B \n",
        "    x = self.linear(x)\n",
        "    # sigmoid activation for prediction\n",
        "    predictions = torch.sigmoid(x)\n",
        "    return predictions"
      ],
      "execution_count": 26,
      "outputs": []
    },
    {
      "cell_type": "code",
      "metadata": {
        "id": "RjpFxCpDIs9p"
      },
      "source": [
        "class Trainer: \n",
        "  def __init__(self, model, criterion, optimizer, epoch_num): \n",
        "    self.model = model\n",
        "    # fancy way to say loss function\n",
        "    self.criterion = criterion \n",
        "    self.optimizer = optimizer \n",
        "    self.epoch_num = epoch_num\n",
        "\n",
        "  def fit(self, inputs, targets): \n",
        "    # set model in train state \n",
        "    self.model.train()\n",
        "    \n",
        "    for _ in range(self.epoch_num): \n",
        "      # set gradient to zero\n",
        "      self.optimizer.zero_grad()\n",
        "      # forward pass w/ predictions\n",
        "      preds = self.model(inputs)\n",
        "      # get the loss \n",
        "      loss = self.criterion(preds, targets)\n",
        "      # calculate gradients\n",
        "      loss.backward()\n",
        "      # update params \n",
        "      self.optimizer.step()\n",
        "  \n",
        "  def predict(self, inputs): \n",
        "    # set model in evaluation state \n",
        "    self.model.eval()\n",
        "    # turn off code for backprop\n",
        "    with torch.no_grad(): \n",
        "      preds = self.model(inputs)\n",
        "      \n",
        "    return preds\n"
      ],
      "execution_count": 27,
      "outputs": []
    },
    {
      "cell_type": "code",
      "metadata": {
        "id": "FnenaVgwLRy8"
      },
      "source": [
        "# initalize model, optimizer, loss function\n",
        "epoch_num = 200\n",
        "learning_rate = 0.01\n",
        "log_regression = LogisticRegression(n_features=2)\n",
        "# binary cross entropy loss \n",
        "criterion = nn.BCELoss()\n",
        "optimizer = torch.optim.SGD(log_regression.parameters(), lr=learning_rate)\n",
        "trainer = Trainer(log_regression, criterion, optimizer, epoch_num)\n",
        "\n",
        "# train the model \n",
        "trainer.fit(x_train, y_train)\n",
        "\n",
        "# predict with the model \n",
        "y_predicted = trainer.predict(x_test)"
      ],
      "execution_count": 28,
      "outputs": []
    },
    {
      "cell_type": "code",
      "metadata": {
        "id": "kDs02YTVMHzT"
      },
      "source": [
        ""
      ],
      "execution_count": null,
      "outputs": []
    }
  ]
}